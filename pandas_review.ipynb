{
 "cells": [
  {
   "cell_type": "markdown",
   "id": "1ddf1c05",
   "metadata": {},
   "source": [
    "# Data Wrangling - Review"
   ]
  },
  {
   "cell_type": "markdown",
   "id": "434f139f",
   "metadata": {},
   "source": [
    "**Objective**\n",
    "1. Students will be able to understand the purpose and process of data wrangling.\n",
    "2. Students will be able to utilize Pandas for data wrangling.\n",
    "3. When given a dataset and objectives, students will be able to create a data profile report and implement wrangling.\n",
    "\n",
    "**Not Objective**\n",
    "1. Perform statistical analysis on data.\n",
    "2. Prepare data for Machine Learning."
   ]
  },
  {
   "cell_type": "markdown",
   "id": "12a7e1af",
   "metadata": {},
   "source": [
    "# Introduction to Data Wrangling"
   ]
  },
  {
   "cell_type": "markdown",
   "id": "f69df2ed",
   "metadata": {},
   "source": [
    "Data wrangling involves various activities to prepare data before the analysis stage. This is necessary because we assume data is of poor quality until proven good.\n",
    "\n",
    "Bad data is data that slows down the process and confounds analysis results, including:\n",
    "1. incorrect definitions\n",
    "3. inconsistent structures\n",
    "2. inaccurate values\n",
    "4. incomplete information\n",
    "5. structures that do not meet the analysis requirements (debatable!)"
   ]
  },
  {
   "cell_type": "markdown",
   "id": "6911e5d4",
   "metadata": {},
   "source": [
    "## Data Wrangling Process"
   ]
  },
  {
   "cell_type": "markdown",
   "id": "0cb16460",
   "metadata": {},
   "source": [
    "Data wrangling consists of three main stages:\n",
    "1. Access\n",
    "2. Profile & Transform\n",
    "3. Publish"
   ]
  },
  {
   "cell_type": "markdown",
   "id": "d7da49a3",
   "metadata": {},
   "source": [
    "### 1. Access\n",
    "\n",
    "In this stage, we retrieve data from various sources such as databases, CSV files, spreadsheets, and APIs."
   ]
  },
  {
   "cell_type": "markdown",
   "id": "2ba71c0f",
   "metadata": {},
   "source": [
    "### 2. Profile & Transform\n",
    "\n",
    "#### **Profiling**\n",
    "\n",
    "Profiling is the process of understanding the current state of the data. At the beginning of this process, we need to find out information, including:\n",
    "1. What is the definition of this data?\n",
    "2. What is the definition of each column?\n",
    "3. What should be the column data type?\n",
    "4. What are the allowed values for each column?\n",
    "\n",
    "##### Individual profiling\n",
    "Checking the correctness at the cell level, including:\n",
    "- correct data type, e.g., age is int, not str\n",
    "- allowed values, e.g., age > 0\n",
    "- correct structure, e.g., date formatted YYYY-MM-DD\n",
    "\n",
    "##### Set-based profiling\n",
    "Checking the correctness of values in groups, both columns and data subsets:\n",
    "- duplication\n",
    "- missing values\n",
    "- valid percentage\n",
    "- value distribution\n",
    "- anomalies\n",
    "- relationships between variables\n",
    "\n",
    "Profiling results should be considered in determining the next steps in the DA/DS process.\n",
    "\n",
    "\n",
    "\n",
    "#### **Transforming**\n",
    "\n",
    "##### Cleansing\n",
    "Cleansing is the process of clearing cell values, including:\n",
    "- handling nulls\n",
    "- handling duplicates\n",
    "- structure validation\n",
    "\n",
    "##### Structuring\n",
    "Structuring is the process of changing the structure of data, including:\n",
    "- sorting rows and columns\n",
    "- splitting fields, e.g., `created_at:2020-12-31 -> (create_year:2020, create_month:12, create_date:31)`\n",
    "- merging fields, e.g., `(id_prov:11, id_kota:01, id_kec:23) -> id_lokasi: 110123`\n",
    "- aggregation\n",
    "- pivoting\n",
    "\n",
    "##### Enrichment\n",
    "Enrichment is the process of enriching a dataset, including:\n",
    "\n",
    "Enrichment can be achieved by joining with other datasets, e.g., `Transactions JOIN Customers ON customer_id` to obtain demographic information from transactions.\n",
    "\n",
    "Enrichment can also be derived from value derivation, providing additional information through calculations such as:\n",
    "- calculating the remaining warranty period from `purchase_date` and `guarantee_duration`\n",
    "- predicting sentiment from `comments` in the `ProductReview` dataset\n",
    "- finding location from `address` using the Google Maps API on `Outlets` data"
   ]
  },
  {
   "cell_type": "markdown",
   "id": "71aa4705",
   "metadata": {},
   "source": [
    "### 3. Publish\n",
    "\n",
    "At this stage, we share the ready-to-use data via database, CSV, spreadsheet, or WhatsApp."
   ]
  },
  {
   "cell_type": "markdown",
   "id": "50b4febd",
   "metadata": {},
   "source": []
  }
 ],
 "metadata": {
  "language_info": {
   "name": "python"
  }
 },
 "nbformat": 4,
 "nbformat_minor": 5
}
