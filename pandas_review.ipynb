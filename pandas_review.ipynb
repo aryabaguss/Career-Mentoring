{
 "cells": [
  {
   "cell_type": "markdown",
   "id": "1ddf1c05",
   "metadata": {},
   "source": [
    "# Data Wrangling - Review"
   ]
  },
  {
   "cell_type": "markdown",
   "id": "434f139f",
   "metadata": {},
   "source": [
    "**Objective**\n",
    "1. Students will be able to understand the purpose and process of data wrangling.\n",
    "2. Students will be able to utilize Pandas for data wrangling.\n",
    "3. When given a dataset and objectives, students will be able to create a data profile report and implement wrangling.\n",
    "\n",
    "**Not Objective**\n",
    "1. Perform statistical analysis on data.\n",
    "2. Prepare data for Machine Learning."
   ]
  },
  {
   "cell_type": "markdown",
   "id": "12a7e1af",
   "metadata": {},
   "source": [
    "# Introduction to Data Wrangling"
   ]
  },
  {
   "cell_type": "markdown",
   "id": "f69df2ed",
   "metadata": {},
   "source": [
    "Data wrangling involves various activities to prepare data before the analysis stage. This is necessary because we assume data is of poor quality until proven good.\n",
    "\n",
    "Bad data is data that slows down the process and confounds analysis results, including:\n",
    "1. incorrect definitions\n",
    "3. inconsistent structures\n",
    "2. inaccurate values\n",
    "4. incomplete information\n",
    "5. structures that do not meet the analysis requirements (debatable!)"
   ]
  },
  {
   "cell_type": "markdown",
   "id": "6911e5d4",
   "metadata": {},
   "source": [
    "## Data Wrangling Process"
   ]
  },
  {
   "cell_type": "markdown",
   "id": "0cb16460",
   "metadata": {},
   "source": [
    "Data wrangling consists of three main stages:\n",
    "1. Access\n",
    "2. Profile & Transform\n",
    "3. Publish"
   ]
  },
  {
   "cell_type": "markdown",
   "id": "d7da49a3",
   "metadata": {},
   "source": [
    "### 1. Access\n",
    "\n",
    "In this stage, we retrieve data from various sources such as databases, CSV files, spreadsheets, and APIs."
   ]
  },
  {
   "cell_type": "markdown",
   "id": "2ba71c0f",
   "metadata": {},
   "source": [
    "### 2. Profile & Transform\n",
    "\n",
    "#### **Profiling**\n",
    "\n",
    "Profiling is the process of understanding the current state of the data. At the beginning of this process, we need to find out information, including:\n",
    "1. What is the definition of this data?\n",
    "2. What is the definition of each column?\n",
    "3. What should be the column data type?\n",
    "4. What are the allowed values for each column?\n",
    "\n",
    "##### Individual profiling\n",
    "Checking the correctness at the cell level, including:\n",
    "- correct data type, e.g., age is int, not str\n",
    "- allowed values, e.g., age > 0\n",
    "- correct structure, e.g., date formatted YYYY-MM-DD\n",
    "\n",
    "##### Set-based profiling\n",
    "Checking the correctness of values in groups, both columns and data subsets:\n",
    "- duplication\n",
    "- missing values\n",
    "- valid percentage\n",
    "- value distribution\n",
    "- anomalies\n",
    "- relationships between variables\n",
    "\n",
    "Profiling results should be considered in determining the next steps in the DA/DS process.\n",
    "\n",
    "\n",
    "\n",
    "#### **Transforming**\n",
    "\n",
    "##### Cleansing\n",
    "Cleansing is the process of clearing cell values, including:\n",
    "- handling nulls\n",
    "- handling duplicates\n",
    "- structure validation\n",
    "\n",
    "##### Structuring\n",
    "Structuring is the process of changing the structure of data, including:\n",
    "- sorting rows and columns\n",
    "- splitting fields, e.g., `created_at:2020-12-31 -> (create_year:2020, create_month:12, create_date:31)`\n",
    "- merging fields, e.g., `(id_prov:11, id_kota:01, id_kec:23) -> id_lokasi: 110123`\n",
    "- aggregation\n",
    "- pivoting\n",
    "\n",
    "##### Enrichment\n",
    "Enrichment is the process of enriching a dataset, including:\n",
    "\n",
    "Enrichment can be achieved by joining with other datasets, e.g., `Transactions JOIN Customers ON customer_id` to obtain demographic information from transactions.\n",
    "\n",
    "Enrichment can also be derived from value derivation, providing additional information through calculations such as:\n",
    "- calculating the remaining warranty period from `purchase_date` and `guarantee_duration`\n",
    "- predicting sentiment from `comments` in the `ProductReview` dataset\n",
    "- finding location from `address` using the Google Maps API on `Outlets` data"
   ]
  },
  {
   "cell_type": "markdown",
   "id": "71aa4705",
   "metadata": {},
   "source": [
    "### 3. Publish\n",
    "\n",
    "At this stage, we share the ready-to-use data via database, CSV, spreadsheet, or WhatsApp."
   ]
  },
  {
   "cell_type": "markdown",
   "id": "50b4febd",
   "metadata": {},
   "source": [
    "# Speedrun Pandas"
   ]
  },
  {
   "cell_type": "code",
   "execution_count": 1,
   "id": "187301ee",
   "metadata": {},
   "outputs": [],
   "source": [
    "import pandas as pd\n",
    "import numpy as np\n",
    "import seaborn as sns"
   ]
  },
  {
   "cell_type": "markdown",
   "id": "300a7f62",
   "metadata": {},
   "source": [
    "## Accessing Datasets"
   ]
  },
  {
   "cell_type": "markdown",
   "id": "6523b8a0",
   "metadata": {},
   "source": [
    "### Load CSV"
   ]
  },
  {
   "cell_type": "code",
   "execution_count": 2,
   "id": "8e6d8c56",
   "metadata": {},
   "outputs": [
    {
     "data": {
      "text/html": [
       "<div>\n",
       "<style scoped>\n",
       "    .dataframe tbody tr th:only-of-type {\n",
       "        vertical-align: middle;\n",
       "    }\n",
       "\n",
       "    .dataframe tbody tr th {\n",
       "        vertical-align: top;\n",
       "    }\n",
       "\n",
       "    .dataframe thead th {\n",
       "        text-align: right;\n",
       "    }\n",
       "</style>\n",
       "<table border=\"1\" class=\"dataframe\">\n",
       "  <thead>\n",
       "    <tr style=\"text-align: right;\">\n",
       "      <th></th>\n",
       "      <th>Home</th>\n",
       "      <th>Price</th>\n",
       "      <th>SqFt</th>\n",
       "      <th>Bedrooms</th>\n",
       "      <th>Bathrooms</th>\n",
       "      <th>Offers</th>\n",
       "      <th>Brick</th>\n",
       "      <th>Neighborhood</th>\n",
       "    </tr>\n",
       "  </thead>\n",
       "  <tbody>\n",
       "    <tr>\n",
       "      <th>0</th>\n",
       "      <td>1</td>\n",
       "      <td>114300</td>\n",
       "      <td>1790</td>\n",
       "      <td>2</td>\n",
       "      <td>2</td>\n",
       "      <td>2</td>\n",
       "      <td>No</td>\n",
       "      <td>East</td>\n",
       "    </tr>\n",
       "    <tr>\n",
       "      <th>1</th>\n",
       "      <td>2</td>\n",
       "      <td>114200</td>\n",
       "      <td>2030</td>\n",
       "      <td>4</td>\n",
       "      <td>2</td>\n",
       "      <td>3</td>\n",
       "      <td>No</td>\n",
       "      <td>East</td>\n",
       "    </tr>\n",
       "  </tbody>\n",
       "</table>\n",
       "</div>"
      ],
      "text/plain": [
       "   Home   Price  SqFt  Bedrooms  Bathrooms  Offers Brick Neighborhood\n",
       "0     1  114300  1790         2          2       2    No         East\n",
       "1     2  114200  2030         4          2       3    No         East"
      ]
     },
     "execution_count": 2,
     "metadata": {},
     "output_type": "execute_result"
    }
   ],
   "source": [
    "path = 'https://raw.githubusercontent.com/ywchiu/riii/refs/heads/master/data/house-prices.csv'\n",
    "df_house_price = pd.read_csv(path)\n",
    "df_house_price.head(2)"
   ]
  },
  {
   "cell_type": "markdown",
   "id": "6a6fe87f",
   "metadata": {},
   "source": [
    "### Load Excel"
   ]
  },
  {
   "cell_type": "code",
   "execution_count": 3,
   "id": "3244d618",
   "metadata": {},
   "outputs": [
    {
     "data": {
      "text/html": [
       "<div>\n",
       "<style scoped>\n",
       "    .dataframe tbody tr th:only-of-type {\n",
       "        vertical-align: middle;\n",
       "    }\n",
       "\n",
       "    .dataframe tbody tr th {\n",
       "        vertical-align: top;\n",
       "    }\n",
       "\n",
       "    .dataframe thead th {\n",
       "        text-align: right;\n",
       "    }\n",
       "</style>\n",
       "<table border=\"1\" class=\"dataframe\">\n",
       "  <thead>\n",
       "    <tr style=\"text-align: right;\">\n",
       "      <th></th>\n",
       "      <th>transaction_id</th>\n",
       "      <th>transaction_date</th>\n",
       "      <th>transaction_time</th>\n",
       "      <th>transaction_qty</th>\n",
       "      <th>store_id</th>\n",
       "      <th>store_location</th>\n",
       "      <th>product_id</th>\n",
       "      <th>unit_price</th>\n",
       "      <th>product_category</th>\n",
       "      <th>product_type</th>\n",
       "    </tr>\n",
       "  </thead>\n",
       "  <tbody>\n",
       "    <tr>\n",
       "      <th>0</th>\n",
       "      <td>1</td>\n",
       "      <td>2023-01-01</td>\n",
       "      <td>07:06:11</td>\n",
       "      <td>2</td>\n",
       "      <td>5</td>\n",
       "      <td>Lower Manhattan</td>\n",
       "      <td>32</td>\n",
       "      <td>3.0</td>\n",
       "      <td>Coffee</td>\n",
       "      <td>Gourmet brewed coffee</td>\n",
       "    </tr>\n",
       "    <tr>\n",
       "      <th>1</th>\n",
       "      <td>2</td>\n",
       "      <td>2023-01-01</td>\n",
       "      <td>07:08:56</td>\n",
       "      <td>2</td>\n",
       "      <td>5</td>\n",
       "      <td>Lower Manhattan</td>\n",
       "      <td>57</td>\n",
       "      <td>NaN</td>\n",
       "      <td>Tea</td>\n",
       "      <td>NaN</td>\n",
       "    </tr>\n",
       "  </tbody>\n",
       "</table>\n",
       "</div>"
      ],
      "text/plain": [
       "   transaction_id transaction_date transaction_time  transaction_qty  \\\n",
       "0               1       2023-01-01         07:06:11                2   \n",
       "1               2       2023-01-01         07:08:56                2   \n",
       "\n",
       "   store_id   store_location  product_id  unit_price product_category  \\\n",
       "0         5  Lower Manhattan          32         3.0           Coffee   \n",
       "1         5  Lower Manhattan          57         NaN              Tea   \n",
       "\n",
       "            product_type  \n",
       "0  Gourmet brewed coffee  \n",
       "1                    NaN  "
      ]
     },
     "execution_count": 3,
     "metadata": {},
     "output_type": "execute_result"
    }
   ],
   "source": [
    "url = \"https://raw.githubusercontent.com/Kurikulum-Sekolah-Pacmann/wrangling-bfp-aksel/main/coffee_shop_sales.xlsx\"\n",
    "df_coffee_shop = pd.read_excel(url)\n",
    "df_coffee_shop.head(2)"
   ]
  },
  {
   "cell_type": "markdown",
   "id": "741b1670",
   "metadata": {},
   "source": [
    "### Load Dict"
   ]
  },
  {
   "cell_type": "code",
   "execution_count": 4,
   "id": "bc7fd564",
   "metadata": {},
   "outputs": [
    {
     "data": {
      "text/html": [
       "<div>\n",
       "<style scoped>\n",
       "    .dataframe tbody tr th:only-of-type {\n",
       "        vertical-align: middle;\n",
       "    }\n",
       "\n",
       "    .dataframe tbody tr th {\n",
       "        vertical-align: top;\n",
       "    }\n",
       "\n",
       "    .dataframe thead th {\n",
       "        text-align: right;\n",
       "    }\n",
       "</style>\n",
       "<table border=\"1\" class=\"dataframe\">\n",
       "  <thead>\n",
       "    <tr style=\"text-align: right;\">\n",
       "      <th></th>\n",
       "      <th>nama</th>\n",
       "      <th>umur</th>\n",
       "    </tr>\n",
       "  </thead>\n",
       "  <tbody>\n",
       "    <tr>\n",
       "      <th>0</th>\n",
       "      <td>Ani</td>\n",
       "      <td>17</td>\n",
       "    </tr>\n",
       "    <tr>\n",
       "      <th>1</th>\n",
       "      <td>Budi</td>\n",
       "      <td>18</td>\n",
       "    </tr>\n",
       "    <tr>\n",
       "      <th>2</th>\n",
       "      <td>Charli</td>\n",
       "      <td>17</td>\n",
       "    </tr>\n",
       "  </tbody>\n",
       "</table>\n",
       "</div>"
      ],
      "text/plain": [
       "     nama  umur\n",
       "0     Ani    17\n",
       "1    Budi    18\n",
       "2  Charli    17"
      ]
     },
     "execution_count": 4,
     "metadata": {},
     "output_type": "execute_result"
    }
   ],
   "source": [
    "siswa_dict = {\n",
    "    'nama': ['Ani', 'Budi', 'Charli'],\n",
    "    'umur': [17, 18, 17]\n",
    "}\n",
    "pd.DataFrame(siswa_dict)"
   ]
  },
  {
   "cell_type": "markdown",
   "id": "01381f68",
   "metadata": {},
   "source": [
    "Task:\n",
    "- Loads data from local CSV\n",
    "- Load data from xls & xlsx"
   ]
  },
  {
   "cell_type": "code",
   "execution_count": 26,
   "id": "faffbfde",
   "metadata": {},
   "outputs": [
    {
     "data": {
      "text/html": [
       "<div>\n",
       "<style scoped>\n",
       "    .dataframe tbody tr th:only-of-type {\n",
       "        vertical-align: middle;\n",
       "    }\n",
       "\n",
       "    .dataframe tbody tr th {\n",
       "        vertical-align: top;\n",
       "    }\n",
       "\n",
       "    .dataframe thead th {\n",
       "        text-align: right;\n",
       "    }\n",
       "</style>\n",
       "<table border=\"1\" class=\"dataframe\">\n",
       "  <thead>\n",
       "    <tr style=\"text-align: right;\">\n",
       "      <th></th>\n",
       "      <th>Year</th>\n",
       "      <th>Genre</th>\n",
       "      <th>Publisher</th>\n",
       "      <th>NA_Sales</th>\n",
       "      <th>EU_Sales</th>\n",
       "      <th>JP_Sales</th>\n",
       "      <th>Other_Sales</th>\n",
       "      <th>Global_Sales</th>\n",
       "    </tr>\n",
       "  </thead>\n",
       "  <tbody>\n",
       "    <tr>\n",
       "      <th>0</th>\n",
       "      <td>2010.0</td>\n",
       "      <td>Sports</td>\n",
       "      <td>Nintendo</td>\n",
       "      <td>41.49</td>\n",
       "      <td>29.02</td>\n",
       "      <td>3.77</td>\n",
       "      <td>8.46</td>\n",
       "      <td>82.74</td>\n",
       "    </tr>\n",
       "    <tr>\n",
       "      <th>1</th>\n",
       "      <td>1989.0</td>\n",
       "      <td>Platform</td>\n",
       "      <td>Nintendo</td>\n",
       "      <td>29.08</td>\n",
       "      <td>3.58</td>\n",
       "      <td>6.81</td>\n",
       "      <td>0.77</td>\n",
       "      <td>40.24</td>\n",
       "    </tr>\n",
       "    <tr>\n",
       "      <th>2</th>\n",
       "      <td>2012.0</td>\n",
       "      <td>Racing</td>\n",
       "      <td>Nintendo</td>\n",
       "      <td>15.85</td>\n",
       "      <td>12.88</td>\n",
       "      <td>3.79</td>\n",
       "      <td>3.31</td>\n",
       "      <td>35.82</td>\n",
       "    </tr>\n",
       "    <tr>\n",
       "      <th>3</th>\n",
       "      <td>2013.0</td>\n",
       "      <td>Sports</td>\n",
       "      <td>Nintendo</td>\n",
       "      <td>15.75</td>\n",
       "      <td>11.01</td>\n",
       "      <td>3.28</td>\n",
       "      <td>2.96</td>\n",
       "      <td>33.00</td>\n",
       "    </tr>\n",
       "    <tr>\n",
       "      <th>4</th>\n",
       "      <td>2000.0</td>\n",
       "      <td>Role-Playing</td>\n",
       "      <td>Nintendo</td>\n",
       "      <td>11.27</td>\n",
       "      <td>8.89</td>\n",
       "      <td>10.22</td>\n",
       "      <td>1.00</td>\n",
       "      <td>31.37</td>\n",
       "    </tr>\n",
       "  </tbody>\n",
       "</table>\n",
       "</div>"
      ],
      "text/plain": [
       "     Year         Genre Publisher  NA_Sales  EU_Sales  JP_Sales  Other_Sales  \\\n",
       "0  2010.0        Sports  Nintendo     41.49     29.02      3.77         8.46   \n",
       "1  1989.0      Platform  Nintendo     29.08      3.58      6.81         0.77   \n",
       "2  2012.0        Racing  Nintendo     15.85     12.88      3.79         3.31   \n",
       "3  2013.0        Sports  Nintendo     15.75     11.01      3.28         2.96   \n",
       "4  2000.0  Role-Playing  Nintendo     11.27      8.89     10.22         1.00   \n",
       "\n",
       "   Global_Sales  \n",
       "0         82.74  \n",
       "1         40.24  \n",
       "2         35.82  \n",
       "3         33.00  \n",
       "4         31.37  "
      ]
     },
     "execution_count": 26,
     "metadata": {},
     "output_type": "execute_result"
    }
   ],
   "source": [
    "path1 = 'vgsales_new.csv'\n",
    "df_vgsales = pd.read_csv(path1, index_col = 0)\n",
    "df_vgsales.head(5)"
   ]
  },
  {
   "cell_type": "markdown",
   "id": "671d6bf0",
   "metadata": {},
   "source": [
    "### Dataframe\n",
    "\n",
    "A Pandas DataFrame is a columnar data structure. A DataFrame is a collection of n columns, each of which is a Numpy series.\n",
    "\n",
    "A Numpy series is a 1D list containing elements of the same data type, each with an index."
   ]
  },
  {
   "cell_type": "code",
   "execution_count": 6,
   "id": "ab21534e",
   "metadata": {},
   "outputs": [
    {
     "data": {
      "text/plain": [
       "array(['Ani', 'Budi', 'Charli'], dtype='<U6')"
      ]
     },
     "execution_count": 6,
     "metadata": {},
     "output_type": "execute_result"
    }
   ],
   "source": [
    "nama = np.array(['Ani', 'Budi', 'Charli'])\n",
    "nama"
   ]
  },
  {
   "cell_type": "code",
   "execution_count": 7,
   "id": "3f4ac728",
   "metadata": {},
   "outputs": [
    {
     "data": {
      "text/plain": [
       "(3,)"
      ]
     },
     "execution_count": 7,
     "metadata": {},
     "output_type": "execute_result"
    }
   ],
   "source": [
    "nama.shape"
   ]
  },
  {
   "cell_type": "code",
   "execution_count": 8,
   "id": "f05aa075",
   "metadata": {},
   "outputs": [
    {
     "data": {
      "text/plain": [
       "(128, 8)"
      ]
     },
     "execution_count": 8,
     "metadata": {},
     "output_type": "execute_result"
    }
   ],
   "source": [
    "# baris x kolom\n",
    "df_house_price.shape"
   ]
  },
  {
   "cell_type": "code",
   "execution_count": 9,
   "id": "83b42910",
   "metadata": {},
   "outputs": [
    {
     "data": {
      "text/plain": [
       "0      114300\n",
       "1      114200\n",
       "2      114800\n",
       "3       94700\n",
       "4      119800\n",
       "        ...  \n",
       "123    119700\n",
       "124    147900\n",
       "125    113500\n",
       "126    149900\n",
       "127    124600\n",
       "Name: Price, Length: 128, dtype: int64"
      ]
     },
     "execution_count": 9,
     "metadata": {},
     "output_type": "execute_result"
    }
   ],
   "source": [
    "# kolom Price merupakan series dengan index [0..] dan value int64\n",
    "df_house_price['Price']"
   ]
  },
  {
   "cell_type": "code",
   "execution_count": 10,
   "id": "c470bc9c",
   "metadata": {},
   "outputs": [
    {
     "data": {
      "text/plain": [
       "0    East\n",
       "1    East\n",
       "2    East\n",
       "3    East\n",
       "4    East\n",
       "Name: Neighborhood, dtype: object"
      ]
     },
     "execution_count": 10,
     "metadata": {},
     "output_type": "execute_result"
    }
   ],
   "source": [
    "# kolom Neighborhood merupakan series dengan index [0..] dan tipe object\n",
    "# ambil 5 baris teratas\n",
    "df_house_price['Neighborhood'].head(5)"
   ]
  },
  {
   "cell_type": "code",
   "execution_count": 11,
   "id": "a6c9c15c",
   "metadata": {},
   "outputs": [
    {
     "data": {
      "text/html": [
       "<div>\n",
       "<style scoped>\n",
       "    .dataframe tbody tr th:only-of-type {\n",
       "        vertical-align: middle;\n",
       "    }\n",
       "\n",
       "    .dataframe tbody tr th {\n",
       "        vertical-align: top;\n",
       "    }\n",
       "\n",
       "    .dataframe thead th {\n",
       "        text-align: right;\n",
       "    }\n",
       "</style>\n",
       "<table border=\"1\" class=\"dataframe\">\n",
       "  <thead>\n",
       "    <tr style=\"text-align: right;\">\n",
       "      <th></th>\n",
       "      <th>Price</th>\n",
       "      <th>Neighborhood</th>\n",
       "    </tr>\n",
       "  </thead>\n",
       "  <tbody>\n",
       "    <tr>\n",
       "      <th>123</th>\n",
       "      <td>119700</td>\n",
       "      <td>East</td>\n",
       "    </tr>\n",
       "    <tr>\n",
       "      <th>124</th>\n",
       "      <td>147900</td>\n",
       "      <td>East</td>\n",
       "    </tr>\n",
       "    <tr>\n",
       "      <th>125</th>\n",
       "      <td>113500</td>\n",
       "      <td>North</td>\n",
       "    </tr>\n",
       "    <tr>\n",
       "      <th>126</th>\n",
       "      <td>149900</td>\n",
       "      <td>West</td>\n",
       "    </tr>\n",
       "    <tr>\n",
       "      <th>127</th>\n",
       "      <td>124600</td>\n",
       "      <td>North</td>\n",
       "    </tr>\n",
       "  </tbody>\n",
       "</table>\n",
       "</div>"
      ],
      "text/plain": [
       "      Price Neighborhood\n",
       "123  119700         East\n",
       "124  147900         East\n",
       "125  113500        North\n",
       "126  149900         West\n",
       "127  124600        North"
      ]
     },
     "execution_count": 11,
     "metadata": {},
     "output_type": "execute_result"
    }
   ],
   "source": [
    "# ambil kolom Price & Neighborhood\n",
    "# ambil 5 baris terbawah\n",
    "df_house_price[['Price', 'Neighborhood']].tail(5)"
   ]
  },
  {
   "cell_type": "markdown",
   "id": "2bf8d502",
   "metadata": {},
   "source": [
    "### Summarizing Dataframe"
   ]
  },
  {
   "cell_type": "code",
   "execution_count": 12,
   "id": "5a4fcdb0",
   "metadata": {},
   "outputs": [
    {
     "data": {
      "text/html": [
       "<div>\n",
       "<style scoped>\n",
       "    .dataframe tbody tr th:only-of-type {\n",
       "        vertical-align: middle;\n",
       "    }\n",
       "\n",
       "    .dataframe tbody tr th {\n",
       "        vertical-align: top;\n",
       "    }\n",
       "\n",
       "    .dataframe thead th {\n",
       "        text-align: right;\n",
       "    }\n",
       "</style>\n",
       "<table border=\"1\" class=\"dataframe\">\n",
       "  <thead>\n",
       "    <tr style=\"text-align: right;\">\n",
       "      <th></th>\n",
       "      <th>Home</th>\n",
       "      <th>Price</th>\n",
       "      <th>SqFt</th>\n",
       "      <th>Bedrooms</th>\n",
       "      <th>Bathrooms</th>\n",
       "      <th>Offers</th>\n",
       "      <th>Brick</th>\n",
       "      <th>Neighborhood</th>\n",
       "    </tr>\n",
       "  </thead>\n",
       "  <tbody>\n",
       "    <tr>\n",
       "      <th>0</th>\n",
       "      <td>1</td>\n",
       "      <td>114300</td>\n",
       "      <td>1790</td>\n",
       "      <td>2</td>\n",
       "      <td>2</td>\n",
       "      <td>2</td>\n",
       "      <td>No</td>\n",
       "      <td>East</td>\n",
       "    </tr>\n",
       "    <tr>\n",
       "      <th>1</th>\n",
       "      <td>2</td>\n",
       "      <td>114200</td>\n",
       "      <td>2030</td>\n",
       "      <td>4</td>\n",
       "      <td>2</td>\n",
       "      <td>3</td>\n",
       "      <td>No</td>\n",
       "      <td>East</td>\n",
       "    </tr>\n",
       "  </tbody>\n",
       "</table>\n",
       "</div>"
      ],
      "text/plain": [
       "   Home   Price  SqFt  Bedrooms  Bathrooms  Offers Brick Neighborhood\n",
       "0     1  114300  1790         2          2       2    No         East\n",
       "1     2  114200  2030         4          2       3    No         East"
      ]
     },
     "execution_count": 12,
     "metadata": {},
     "output_type": "execute_result"
    }
   ],
   "source": [
    "df_house_price.head(2)"
   ]
  },
  {
   "cell_type": "code",
   "execution_count": 13,
   "id": "b785e9bd",
   "metadata": {},
   "outputs": [
    {
     "data": {
      "text/plain": [
       "Home             int64\n",
       "Price            int64\n",
       "SqFt             int64\n",
       "Bedrooms         int64\n",
       "Bathrooms        int64\n",
       "Offers           int64\n",
       "Brick           object\n",
       "Neighborhood    object\n",
       "dtype: object"
      ]
     },
     "execution_count": 13,
     "metadata": {},
     "output_type": "execute_result"
    }
   ],
   "source": [
    "df_house_price.dtypes"
   ]
  },
  {
   "cell_type": "code",
   "execution_count": 14,
   "id": "9e49f0c0",
   "metadata": {},
   "outputs": [
    {
     "data": {
      "text/plain": [
       "count       128.000000\n",
       "mean     130427.343750\n",
       "std       26868.770371\n",
       "min       69100.000000\n",
       "25%      111325.000000\n",
       "50%      125950.000000\n",
       "75%      148250.000000\n",
       "max      211200.000000\n",
       "Name: Price, dtype: float64"
      ]
     },
     "execution_count": 14,
     "metadata": {},
     "output_type": "execute_result"
    }
   ],
   "source": [
    "df_house_price['Price'].describe()"
   ]
  },
  {
   "cell_type": "code",
   "execution_count": 15,
   "id": "9b94d4b9",
   "metadata": {},
   "outputs": [
    {
     "data": {
      "text/plain": [
       "<Axes: xlabel='Price', ylabel='Count'>"
      ]
     },
     "execution_count": 15,
     "metadata": {},
     "output_type": "execute_result"
    },
    {
     "data": {
      "image/png": "[encoded data removed]",
      "text/plain": [
       "<Figure size 640x480 with 1 Axes>"
      ]
     },
     "metadata": {},
     "output_type": "display_data"
    }
   ],
   "source": [
    "# QUESTION: Bagaimana kita membaca plot ini?\n",
    "sns.histplot(data=df_house_price, x='Price')"
   ]
  },
  {
   "cell_type": "markdown",
   "id": "7dc2d519",
   "metadata": {},
   "source": [
    "ANSWERS: The data distribution is more like bimodal distribution. Mostly the price of house is in range of 100,000 - 130,000 and 140,000 - 150,000."
   ]
  },
  {
   "cell_type": "code",
   "execution_count": 16,
   "id": "43c95784",
   "metadata": {},
   "outputs": [
    {
     "data": {
      "text/plain": [
       "count      128\n",
       "unique       3\n",
       "top       East\n",
       "freq        45\n",
       "Name: Neighborhood, dtype: object"
      ]
     },
     "execution_count": 16,
     "metadata": {},
     "output_type": "execute_result"
    }
   ],
   "source": [
    "df_house_price['Neighborhood'].describe()"
   ]
  },
  {
   "cell_type": "code",
   "execution_count": 17,
   "id": "a79e6e7e",
   "metadata": {},
   "outputs": [
    {
     "data": {
      "text/plain": [
       "array(['East', 'North', 'West'], dtype=object)"
      ]
     },
     "execution_count": 17,
     "metadata": {},
     "output_type": "execute_result"
    }
   ],
   "source": [
    "df_house_price['Neighborhood'].unique()"
   ]
  },
  {
   "cell_type": "markdown",
   "id": "0fa694ce",
   "metadata": {},
   "source": []
  },
  {
   "cell_type": "code",
   "execution_count": 18,
   "id": "df3a8b46",
   "metadata": {},
   "outputs": [
    {
     "data": {
      "text/plain": [
       "<Axes: xlabel='SqFt', ylabel='Price'>"
      ]
     },
     "execution_count": 18,
     "metadata": {},
     "output_type": "execute_result"
    },
    {
     "data": {
      "image/png": "[encoded data removed]",
      "text/plain": [
       "<Figure size 640x480 with 1 Axes>"
      ]
     },
     "metadata": {},
     "output_type": "display_data"
    }
   ],
   "source": [
    "# QUESTION: Bagaimana kita membaca plot ini?\n",
    "sns.scatterplot(\n",
    "    data=df_house_price, x='SqFt', y='Price', hue='Neighborhood'\n",
    ")"
   ]
  },
  {
   "cell_type": "markdown",
   "id": "92034de6",
   "metadata": {},
   "source": [
    "ANSWERS: Based on scatterplot above, we can know the North neighborhood is more affordable than the neighborhood. While the West Neighborhood have the higher house price but only on some property that have a >2400 sqft land."
   ]
  },
  {
   "cell_type": "code",
   "execution_count": null,
   "id": "6fba712a",
   "metadata": {},
   "outputs": [],
   "source": []
  }
 ],
 "metadata": {
  "kernelspec": {
   "display_name": "base",
   "language": "python",
   "name": "python3"
  },
  "language_info": {
   "codemirror_mode": {
    "name": "ipython",
    "version": 3
   },
   "file_extension": ".py",
   "mimetype": "text/x-python",
   "name": "python",
   "nbconvert_exporter": "python",
   "pygments_lexer": "ipython3",
   "version": "3.12.4"
  }
 },
 "nbformat": 4,
 "nbformat_minor": 5
}
